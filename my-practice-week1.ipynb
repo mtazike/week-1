{
 "cells": [
  {
   "cell_type": "markdown",
   "id": "28975e80",
   "metadata": {},
   "source": [
    "Consider the following routines to try on your own in a \"scratch\" notebook. The pair problem will build on your understanding of these concepts.\n",
    "\n",
    "Try each of these both (a) without using NumPy, and (b) using NumPy:\n",
    "\n",
    "Given a classroom of n students, how many groups of 4 can we create?\n",
    "For this, consider the difference between the % operator and the // operator\n",
    "In general, how many ways can you \"fill the gap\" if the number of students is not a multiple of 4?\n",
    "E.g., if I have 15 students, I could use 3 groups of 1, or one group of 3, or a group of 2 and one of 1 ...\n",
    "Can you generalize this for group sizes of k (not just 4)?"
   ]
  },
  {
   "cell_type": "code",
   "execution_count": 3,
   "id": "9952eac0",
   "metadata": {},
   "outputs": [
    {
     "name": "stdout",
     "output_type": "stream",
     "text": [
      "4 1\n"
     ]
    }
   ],
   "source": [
    "n = 17\n",
    "groups = n // 4   # 4 groups of 4\n",
    "leftover = n % 4  # 1 student left\n",
    "print(groups, leftover)   # 4 1"
   ]
  },
  {
   "cell_type": "code",
   "execution_count": 2,
   "id": "b637271c",
   "metadata": {},
   "outputs": [
    {
     "name": "stdout",
     "output_type": "stream",
     "text": [
      "(4, 1)\n",
      "(5, 0)\n",
      "(1, 2)\n"
     ]
    }
   ],
   "source": [
    "def groups_of_four(n):\n",
    "    groups = n // 4\n",
    "    leftover = n % 4\n",
    "    return groups, leftover\n",
    "\n",
    "print(groups_of_four(17))   # (4, 1)\n",
    "print(groups_of_four(20))   # (5, 0)\n",
    "print(groups_of_four(6))    # (1, 2)"
   ]
  },
  {
   "cell_type": "code",
   "execution_count": 5,
   "id": "7869e18a",
   "metadata": {},
   "outputs": [
    {
     "name": "stdout",
     "output_type": "stream",
     "text": [
      "(4, 1)\n"
     ]
    }
   ],
   "source": [
    "import numpy as np\n",
    "\n",
    "def groups_of_four_numpy(n):\n",
    "    groups = np.floor_divide(n, 4)\n",
    "    leftover = np.remainder(n, 4)\n",
    "    return groups.item(), leftover.item()   # or int(groups), int(leftover)\n",
    "\n",
    "print(groups_of_four_numpy(17))  # (4, 1)\n",
    "\n"
   ]
  },
  {
   "cell_type": "code",
   "execution_count": null,
   "id": "0702815d",
   "metadata": {},
   "outputs": [],
   "source": []
  }
 ],
 "metadata": {
  "kernelspec": {
   "display_name": "base",
   "language": "python",
   "name": "python3"
  },
  "language_info": {
   "codemirror_mode": {
    "name": "ipython",
    "version": 3
   },
   "file_extension": ".py",
   "mimetype": "text/x-python",
   "name": "python",
   "nbconvert_exporter": "python",
   "pygments_lexer": "ipython3",
   "version": "3.11.11"
  }
 },
 "nbformat": 4,
 "nbformat_minor": 5
}
